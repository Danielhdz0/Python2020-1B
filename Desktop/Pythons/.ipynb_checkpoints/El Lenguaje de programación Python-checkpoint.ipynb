{
 "cells": [
  {
   "cell_type": "markdown",
   "metadata": {},
   "source": [
    "# El lenguaje de programación Python🐍"
   ]
  },
  {
   "cell_type": "markdown",
   "metadata": {},
   "source": [
    " **<div style=\"text-align: right\"> Samuel Arturo Garrido Sánchez</div>**"
   ]
  },
  {
   "cell_type": "code",
   "execution_count": null,
   "metadata": {},
   "outputs": [],
   "source": [
    "print(\"Hola n!\")  #Es costumbre entre los programadores\n",
    "#(Postdata, esto es un comentario)"
   ]
  },
  {
   "cell_type": "markdown",
   "metadata": {},
   "source": [
    "Python es un lenguaje de programación **multiparadigma**, muy útil para demasiadas ramas de la investigación, desarrollos y procesos. \n",
    "Su filosofía radica en un código legible que cualquier persona no enfocada en el área de programación, pueda comprender."
   ]
  },
  {
   "cell_type": "markdown",
   "metadata": {},
   "source": [
    "![](let.png)"
   ]
  },
  {
   "cell_type": "markdown",
   "metadata": {},
   "source": [
    "$$ x^2 = \\int_0^9 x $$"
   ]
  },
  {
   "cell_type": "markdown",
   "metadata": {},
   "source": [
    "# ¿Qué es Python?"
   ]
  },
  {
   "cell_type": "markdown",
   "metadata": {},
   "source": [
    "Python es un lenguaje de programación interpretado cuya filosofía hace hincapié en la legibilidad de su código.\n",
    "\n",
    "Se trata de un lenguaje de programación multiparadigma, ya que soporta orientación a objetos, programación imperativa y, en menor medida, programación funcional. Es un lenguaje interpretado, dinámico y multiplataforma."
   ]
  },
  {
   "cell_type": "markdown",
   "metadata": {},
   "source": [
    "Es administrado por la Python Software Foundation. Posee una licencia de código abierto, denominada Python Software Foundation License, que es compatible con la Licencia pública general de GNU a partir de la versión 2.1.1, e incompatible en ciertas versiones anteriores.\n",
    "\n",
    "![](python.jpg)"
   ]
  },
  {
   "cell_type": "markdown",
   "metadata": {},
   "source": [
    "### Las ventajas de Python pueden ser muchas pero en las que destacan:"
   ]
  },
  {
   "cell_type": "markdown",
   "metadata": {},
   "source": [
    "- La cantidad de librerías que contiene, tipos de datos y funciones incorporadas en el propio lenguaje, que ayudan a realizar muchas tareas habituales sin necesidad de tener que programarlas desde cero.\n",
    "\n",
    "- La sencillez y velocidad con la que se crean los programas. Un programa en Python puede tener de 3 a 5 líneas de código menos que su equivalente en Java o C.\n",
    "\n",
    "- La cantidad de plataformas en las que podemos desarrollar, como Unix, Windows, OS/2, Mac, Amiga y otros.\n",
    "\n",
    "- Además, Python es gratuito, incluso para propósitos empresariales."
   ]
  },
  {
   "cell_type": "markdown",
   "metadata": {},
   "source": [
    "### Filosofía Python"
   ]
  },
  {
   "cell_type": "markdown",
   "metadata": {},
   "source": [
    "La filosofía que rigen las personas que de sean programar en Pythonn están escritas en The Zen of Python (PEP 20), que incluye:\n",
    "\n",
    "- Hermoso es mejor que feo\n",
    "- Explícito es mejor que implícito\n",
    "- Simple es mejor que complejo\n",
    "- Elaborado es mejor que complicado\n",
    "- La legibilidad cuenta."
   ]
  },
  {
   "cell_type": "markdown",
   "metadata": {},
   "source": [
    "## Y a todo esto, ¿cómo se instala?"
   ]
  },
  {
   "cell_type": "markdown",
   "metadata": {},
   "source": [
    "### Windows\n",
    "\n",
    "\n",
    "https://www.python.org/downloads/windows/. \n",
    "\n",
    "Click en el enlace \"Latest Python 3 Release -Python x.x.x\". Si tu ordenador ejecuta la versión de 64 bits de Windows, descarga Windows x86-64 executable installer. De lo contrario, descarga Windows x86 executable installer. Después de descargar el instalador, deberías ejecutarlo (dándole doble click) y seguir las instrucciones.\n",
    "\n",
    "Una cosa para tener en cuenta: Durante la instalación, verás una ventana de \"Setup\". Asegúrate de marcar las casillas \"Add Python 3.6 to PATH\" o \"Add Python to your environment variables\" y hacer click en \"Install Now\", como se muestra aquí (puede que se vea un poco diferente si estás instalando una versión diferente)\n",
    "\n",
    "![](windows.png)"
   ]
  },
  {
   "cell_type": "markdown",
   "metadata": {},
   "source": [
    "### Mac\n",
    "\n",
    "Si has utilizado GNU/Linux alguna vez habrás escuchado la palabra sistema de gestor de paquetes. En macOS se cuenta con ello también, para poder instalar componentes extras a nuestro ordenador.\n",
    "\n",
    "![](scr4.png)\n",
    "\n",
    "En escencia para instalar **Python, PHP nativo, MySQL**, y entre más cosas como kits para desarrollar entre otras podrán ser descargadas solo con el comando:\n",
    "\n",
    "\n",
    "```console\n",
    "MacBook-Pro-de-Sam:~$ brew install <Lo que quieras instalar>\n",
    "```\n",
    "\n",
    "Para poder instalar homebrew necesitarás colocar ésto en tu terminal. Lo usaremos mucho en éste curso y lo usarás mucho si serás desarrollador en general.\n",
    "\n",
    "```console\n",
    "MacBook-Pro-de-Sam:~$ /usr/bin/ruby -e \"$(curl -fsSL https://raw.githubusercontent.com/Homebrew/install/master/install)\"\n",
    "```\n",
    "\n",
    "En nuestro caso, una vez instalado Homebrew en nuestra Mac, en la terminal insertaremos: brew install python.\n",
    "Y se instalará automáticamente."
   ]
  },
  {
   "cell_type": "markdown",
   "metadata": {},
   "source": [
    "### Linux\n",
    "\n",
    "\n",
    "Para los Pro, dependiendo la distribución de linux que tengan, **Fedora, Ubuntu, OpenSUSE**.\n",
    "\n",
    "En la terminal colocan el comando:\n",
    "\n",
    "#### Debians (Ubuntu, Mint, etc.) \n",
    "```console\n",
    ":~$ sudo apt-get install python3\n",
    "```\n",
    "\n",
    "#### Fedora\n",
    "```console\n",
    ":~$ sudo dnf install python3\n",
    "```\n",
    "\n",
    "#### OpenSUSE\n",
    "```console\n",
    ":~$ sudo zypper install python3\n",
    "```"
   ]
  },
  {
   "cell_type": "markdown",
   "metadata": {},
   "source": [
    "## ¿Y quién desarrolló todo esto? ❤️\n",
    "\n",
    "<p>\n",
    "  <img src=\"Guido.jpg\" align = \"right\"  width=\"130\" />\n",
    "</p>\n",
    "\n",
    "Python fue creado a finales de los ochenta3 por **Guido van Rossum** en el Centro para las Matemáticas y la Informática (CWI, Centrum Wiskunde & Informatica), en los Países Bajos, como un sucesor del lenguaje de programación ABC, capaz de manejar excepciones e interactuar con el sistema operativo Amoeba.\n",
    "\n",
    "**El nombre del lenguaje proviene de la afición de su creador por los humoristas británicos Monty Python.**\n",
    "\n",
    "Van Rossum es el principal autor de Python, y su continuo rol central en decidir la dirección de Python es reconocido, refiriéndose a él como Benevolente Dictador Vitalicio (en inglés: Benevolent Dictator for Life, BDFL)"
   ]
  },
  {
   "cell_type": "markdown",
   "metadata": {},
   "source": [
    "## Ejemplos de uso de Python"
   ]
  },
  {
   "cell_type": "markdown",
   "metadata": {},
   "source": [
    "### Álgebra: Solución a un sistema de ecuaciones"
   ]
  },
  {
   "cell_type": "markdown",
   "metadata": {},
   "source": [
    "Podemos usar Python para encontrar la solución a un sistema de ecuaciones.\n",
    "\n",
    "Tenemos el siguiente sistema de ecuaciones:\n",
    "\n",
    "$$ 2x + y - 3z = 7 $$\n",
    "$$ 5x - 4y + z = -19  $$\n",
    "$$ x - y - 4z = 4 $$\n",
    "\n",
    "Buscaremos la solución del sistema a través de python con uso de matrices."
   ]
  },
  {
   "cell_type": "code",
   "execution_count": null,
   "metadata": {},
   "outputs": [],
   "source": [
    "import numpy as np                            #Importar una biblioteca\n",
    "A = np.matrix([[2,1,-3],[5,-4,1],[1,-1,-4]])  #Matriz A\n",
    "B = np.matrix([[7],[-19],[4]])                #Matriz B\n",
    "X = A**(-1)*B                                 #Inversa de matriz A por B\n",
    "print(\"El resultado es: \\n\",X)                #Impresión de la solución"
   ]
  },
  {
   "cell_type": "markdown",
   "metadata": {},
   "source": [
    "### Crear ventanas: Interfaz gráfica"
   ]
  },
  {
   "cell_type": "markdown",
   "metadata": {},
   "source": [
    "Podemos importar Tkinter que nos permite la creación de entornos gráficos tales como botones, ventanas, textfields, etc, aunque tendremos que definir desde lo que contendrán éstos elementos hasta su posición x, y."
   ]
  },
  {
   "cell_type": "code",
   "execution_count": null,
   "metadata": {},
   "outputs": [],
   "source": [
    "from tkinter import *\n",
    "\n",
    "def MainVentana(): #Esto es una función\n",
    "    primerVentana=Tk()\n",
    "    primerVentana.geometry(\"700x700+50+50\") \n",
    "    primerVentana.mainloop()\n",
    "\n",
    "MainVentana()"
   ]
  },
  {
   "cell_type": "markdown",
   "metadata": {},
   "source": [
    "### Buscador de palabras: Expresiones regulares"
   ]
  },
  {
   "cell_type": "markdown",
   "metadata": {},
   "source": [
    "Dentro del mundo del big data y minería de datos, la búsqueda de elementos dentro de grandes archivos es escencial. RE se encarga de esto."
   ]
  },
  {
   "cell_type": "code",
   "execution_count": null,
   "metadata": {},
   "outputs": [],
   "source": [
    "import re\n",
    "texto = \"En esta cadena existe una palabra magica\"\n",
    "print(re.search(\"magica\",texto))\n",
    "print(re.search(\"hola\",texto))\n",
    "\n",
    "\n",
    "# Match en palabras dentro de Strings"
   ]
  },
  {
   "cell_type": "markdown",
   "metadata": {},
   "source": [
    "### Gráficas"
   ]
  },
  {
   "cell_type": "markdown",
   "metadata": {},
   "source": [
    "Para el área de ciencias e ingenierías, los grafos son instrumentos escenciales para poder dar una interpretación de imagen a un fenómeno, de esta manera, la mente humana pueda analizar mejor dicha información."
   ]
  },
  {
   "cell_type": "code",
   "execution_count": null,
   "metadata": {
    "scrolled": true
   },
   "outputs": [],
   "source": [
    "from matplotlib import pyplot\n",
    "\n",
    "def f(x):\n",
    "    y = x**2\n",
    "    return y\n",
    "\n",
    "x = range(-10,11)\n",
    "pyplot.plot(x, [f(i) for i in x])\n",
    "print(\"Gráfica de f(x) = x^2\")\n",
    "pyplot.show()"
   ]
  },
  {
   "cell_type": "markdown",
   "metadata": {},
   "source": [
    "## Python es usado para muchísimas otras cosas como: "
   ]
  },
  {
   "cell_type": "markdown",
   "metadata": {},
   "source": [
    "* Creación de modelos predictivos (Machine Learning).\n",
    "* Creación de Sockets (comunicación entre computadores).\n",
    "* Creación del backend de páginas web junto con php.\n",
    "* Inteligencia Artificial\n",
    "* Realizar simulaciones de fenómenos físicos\n",
    "* Scripts que ayudan al funcionamiento de muchos programas que usamos (Mac OS tiene Python 2.7 de fábrica)\n",
    "* **Y mucho, muuuuchooo más**"
   ]
  },
  {
   "cell_type": "markdown",
   "metadata": {},
   "source": [
    "\n",
    "\n",
    "# <center> 🖥   ¿Qué esperamos?   🖍 </center>"
   ]
  },
  {
   "cell_type": "markdown",
   "metadata": {},
   "source": [
    "## Tipos de \"datos\" - (objetos)"
   ]
  },
  {
   "cell_type": "markdown",
   "metadata": {},
   "source": [
    "En Python, todas las **variables son objetos**. Todas las cosas que \"declaremos\", que reside en algún lugar de la memoria, posee un identificador único que lo diferencia del resto. Piensa en él como si fuera su INE. Para conocer ese identificador, Python dispone de la función id()."
   ]
  },
  {
   "cell_type": "code",
   "execution_count": null,
   "metadata": {},
   "outputs": [],
   "source": [
    "numero = 6.989796967\n",
    "id(numero)\n",
    "print(id(numero))"
   ]
  },
  {
   "cell_type": "markdown",
   "metadata": {},
   "source": [
    "**Al contrario de otros lenguajes de programación como Java, no es necesario declarar el tipo de variable que se crea.**"
   ]
  },
  {
   "cell_type": "markdown",
   "metadata": {},
   "source": [
    "Los tipos de datos primitivos no existen como tal en Python, sin embargo podemos saber el tipo de dato que contiene una variable con el método type(dato)"
   ]
  },
  {
   "cell_type": "code",
   "execution_count": null,
   "metadata": {},
   "outputs": [],
   "source": [
    "# Los enteros\n",
    "opcion = 5 \n",
    "print(opcion)\n",
    "type(opcion)"
   ]
  },
  {
   "cell_type": "markdown",
   "metadata": {},
   "source": [
    "Una cadena o String es un tipo de dato que guarda una oración o conjunto de letras, símbolos y números para tratarlo como uno solo. En C en cambio un \"String\" en realidad es un arreglo de caracteres."
   ]
  },
  {
   "cell_type": "code",
   "execution_count": null,
   "metadata": {
    "scrolled": true
   },
   "outputs": [],
   "source": [
    "saludo = str(\"Hola\")\n",
    "print(saludo)\n",
    "saludo1 = \"Las saladitas son horneadas\"\n",
    "print(saludo1)"
   ]
  },
  {
   "cell_type": "code",
   "execution_count": null,
   "metadata": {},
   "outputs": [],
   "source": [
    "#Floats\n",
    "# ESto es un comentario\n",
    "\n",
    "\n",
    "enunciado = \"Un automóvil se movió 1135.67 metros en 140.86 segundos. Calcule su velocidad\"\n",
    "\n",
    "distancia = 1135.67\n",
    "tiempo = 140.86 \n",
    "\n",
    "velocidad = distancia/(tiempo**2)\n",
    "\n",
    "print(enunciado)\n",
    "print(\"\\n \\t La velocidad del automóvil fue:\",velocidad,\"m/s\")"
   ]
  },
  {
   "cell_type": "markdown",
   "metadata": {},
   "source": [
    "### Operadores y comparadores matemáticos"
   ]
  },
  {
   "cell_type": "markdown",
   "metadata": {},
   "source": [
    "Dentro de la programación existe mucha lógica. Varios elementos de comparación en matemáticas como lo es <, >, ≤, ≥, ≠(!=), o algún método dentro de los objetos tienen la función de devolver un elemento **BOOLEANO** (BOOLEANO: TRUE OR FALSE). Nos devuelve este booleano para determinar si es cierto o falso el enunciado del código."
   ]
  },
  {
   "cell_type": "code",
   "execution_count": null,
   "metadata": {
    "scrolled": true
   },
   "outputs": [],
   "source": [
    "a = 6\n",
    "b = 5\n",
    "c = 5\n",
    "print(a+b)\n",
    "print(a-b)\n",
    "print(a*b)\n",
    "print(a/b)\n",
    "print(\"\\n\")\n",
    "print(a%b)\n",
    "#ESTO encuentra el residuo de la división o la congruencia de un número con un módulo\n",
    "\n",
    "\n",
    "\n",
    "print(\"\\n\")\n",
    "print(a == b) # un signo = significa asignación, == doble significa preguntar si son iguales a python\n",
    "print(b == c)\n",
    "print(a<5) #a es menor que 5\n",
    "print(b>c)\n",
    "print(c!=6)\n",
    "\n",
    "# No solamente se pueden comparar números\n",
    "\n",
    "texto1 = \"Hola, ¿qué tal?\"\n",
    "texto2 = \"Hola, qué tal?\"\n",
    "print(texto1 == texto2)\n"
   ]
  },
  {
   "cell_type": "code",
   "execution_count": null,
   "metadata": {},
   "outputs": [],
   "source": [
    "par = 11%2\n",
    "par == 0"
   ]
  },
  {
   "cell_type": "code",
   "execution_count": null,
   "metadata": {},
   "outputs": [],
   "source": [
    "# Booleanos\n",
    "\n",
    "#Ejercicio: Quitar la variable de \"puedoSalirAlCine\" pero obtener el mismo resultado\n",
    "\n",
    "puedoSalirAlCine = bool() # ¿Por qué no viene al caso hacer ésto?\n",
    "\n",
    "tareas = 8 # Un control de flujo if/else -> próxima clase\n",
    "if tareas < 8:\n",
    "    if puedoSalirAlCine:\n",
    "        print(\"Yeih! 😁\")\n",
    "    else:\n",
    "        print(\"No yeih ☹️\")\n",
    "        puedoSalirAlCine = False\n",
    "else:\n",
    "    puedoSalirAlCine = True\n",
    "\n"
   ]
  },
  {
   "cell_type": "markdown",
   "metadata": {},
   "source": [
    "**<center>¿Y cómo ingreso elementos a la ejecución (a manera de Scanner)? </center>**"
   ]
  },
  {
   "cell_type": "code",
   "execution_count": null,
   "metadata": {
    "scrolled": true
   },
   "outputs": [],
   "source": [
    "numeroInsertado = int(input(\"Ingrese un número: \")) # ¿Por qué el int al principio? Pista: String\n",
    "if numeroInsertado  < 5:\n",
    "    print(\"😀\")\n",
    "elif numeroInsertado < 10: #O elif?\n",
    "    print(\"⭐️\")\n",
    "    \n",
    "elif numeroInsertado < 30:\n",
    "    print(\"🍀\")\n",
    "else:\n",
    "    print(\"Es más grande que 30\")"
   ]
  },
  {
   "cell_type": "markdown",
   "metadata": {},
   "source": [
    "### Palabras reservadas: 👀\n",
    "\n",
    "Las palabras reservadas son un conjunto de palabras que **NO** podremos usar como nombre de nuestas variables ya que python sabe que tiene que realizar ciertas acciones si se encuentra con alguna de éstas palabras. Entre las cuales podemos encontrar:\n",
    "\n",
    "- and\n",
    "- if\n",
    "- del\n",
    "- else\n",
    "- for\n",
    "- elif\n",
    "- is\n",
    "- from\n",
    "- raise\n",
    "- lambda\n",
    "- assert\n",
    "- return\n",
    "- break\n",
    "- global\n",
    "- not\n",
    "- try\n",
    "- class\n",
    "- except\n",
    "- or\n",
    "- while\n",
    "- continue\n",
    "- exec\n",
    "- import\n",
    "- yield\n",
    "- def\n",
    "- finally\n",
    "- print\n",
    "\n",
    "**No vayan a intentar usar alguna de éstas palabras como nombre de sus variables o no funcionará su programa**"
   ]
  },
  {
   "cell_type": "markdown",
   "metadata": {},
   "source": [
    "## Operadores lógicos.\n",
    "\n",
    "Los operadores lógicos son los que trabajan con valores booleanos, nos devuelven falso o verdadero y son la escencia de las condiciones\n",
    "\n",
    "### Operador AND\n",
    "\n",
    "El operador and evalúa si las condiciones TODAS se cumplen:\n",
    "\n",
    "#### Ejemplo de ayer:"
   ]
  },
  {
   "cell_type": "code",
   "execution_count": null,
   "metadata": {},
   "outputs": [],
   "source": [
    "True and False"
   ]
  },
  {
   "cell_type": "code",
   "execution_count": null,
   "metadata": {},
   "outputs": [],
   "source": [
    "examenes = int(input(\"Ingrese el número de exámenes: \"))\n",
    "tareas = int(input(\"Ingrese el número de tareas: \"))\n",
    "participaciones = int(input(\"Ingrese el número de participaciones: \"))\n",
    "\n",
    "if examenes >= 10 and tareas >=10 and participaciones >=10:\n",
    "    print(\"Podrás ir a la peda\")\n",
    "else:\n",
    "    print(\"Híjole creo que no se va a poder\")"
   ]
  },
  {
   "cell_type": "markdown",
   "metadata": {},
   "source": [
    "### Operador OR\n",
    "\n",
    "El operador or evalúa si ALGUNO DE LOS VALORES ES VERDADERO"
   ]
  },
  {
   "cell_type": "code",
   "execution_count": null,
   "metadata": {},
   "outputs": [],
   "source": [
    "tengoPaseFiesta = False\n",
    "miCompaTiene = True\n",
    "\n",
    "if tengoPaseFiesta or miCompaTiene:\n",
    "    print(\"Podemos pasar\")\n",
    "else:\n",
    "    print(\"Nos quedamos fuera\")"
   ]
  },
  {
   "cell_type": "code",
   "execution_count": null,
   "metadata": {},
   "outputs": [],
   "source": [
    "edad = 18\n",
    "dinero = 10000\n",
    "fama = 80 #supongamos que se mide del 1 al 100\n",
    "\n",
    "if edad >= 18 or dinero >= 1000 or fama >= 50:\n",
    "    print(\"Ya llegué paps\")\n",
    "else:\n",
    "    print(\"No te preocupes príncipe, ahí para la otra\")"
   ]
  },
  {
   "cell_type": "markdown",
   "metadata": {},
   "source": [
    "### Operador NOT\n",
    "\n",
    "El operador not devuelve el valor opuesto al valor booleano"
   ]
  },
  {
   "cell_type": "code",
   "execution_count": null,
   "metadata": {},
   "outputs": [],
   "source": [
    "not True"
   ]
  },
  {
   "cell_type": "code",
   "execution_count": null,
   "metadata": {
    "scrolled": true
   },
   "outputs": [],
   "source": [
    "mayonesa1 = \"Hellmans\"\n",
    "mayonesa2 = \"Nestlé\"\n",
    "\n",
    "if mayonesa1 is not \"McCORMICK\":\n",
    "    print(\"Un toque del sabor de mayonesa McCORMICK\")\n",
    "    \n",
    "if mayonesa2 != \"McCORMICK\":\n",
    "    print(\"Un toque del sabor de mayonesa McCORMICK\")"
   ]
  },
  {
   "cell_type": "markdown",
   "metadata": {},
   "source": [
    "Aquí aparece una situación. **IS**: Bastante frecuente que se use de sinónimos a is y == o is not con !=. Aunque suelen funciona de forma similar sus comportamientos no son exactamente iguales. \n",
    "\n",
    "\n",
    "**is** devolverá TRUE si las 2 variables apuntan al mismo objecto.\n",
    "\n",
    "**==** devolverá True si los valores de las variables son iguales.\n"
   ]
  },
  {
   "cell_type": "code",
   "execution_count": null,
   "metadata": {},
   "outputs": [],
   "source": [
    "a = 1000\n",
    "\n",
    "b = 999\n"
   ]
  },
  {
   "cell_type": "code",
   "execution_count": null,
   "metadata": {},
   "outputs": [],
   "source": [
    "a is b"
   ]
  },
  {
   "cell_type": "code",
   "execution_count": null,
   "metadata": {
    "scrolled": true
   },
   "outputs": [],
   "source": [
    "a == b +1"
   ]
  },
  {
   "cell_type": "markdown",
   "metadata": {},
   "source": [
    "### ¿Se pueden combinar todo lo visto hasta ahora? Sí"
   ]
  },
  {
   "cell_type": "code",
   "execution_count": null,
   "metadata": {},
   "outputs": [],
   "source": [
    "a = 5==5 \n",
    "b = True\n",
    "c = 5 is not 7\n",
    "\n",
    "if not((a or b) and c):\n",
    "    print(\"Ya les dio calambre cerebral?\")\n",
    "else:\n",
    "    print(\"Todavía\")"
   ]
  },
  {
   "cell_type": "markdown",
   "metadata": {},
   "source": [
    "## Colecciones 🐆"
   ]
  },
  {
   "cell_type": "markdown",
   "metadata": {},
   "source": [
    "### Mutabilidad"
   ]
  },
  {
   "cell_type": "markdown",
   "metadata": {},
   "source": [
    "La mutabilidad radica si un elemento dentro de un objeto o el objeto mismo puede cambiar algún atributo que posea. Si es mutable, podemos hacer el cambio, en caso contrario recibiremos un error."
   ]
  },
  {
   "cell_type": "markdown",
   "metadata": {},
   "source": [
    "### Listas"
   ]
  },
  {
   "cell_type": "markdown",
   "metadata": {},
   "source": [
    "Son colecciones de elementos que permiten la mutabilidad de elementos. Existen una serie de funciones que nos permiten interactuar con una lista. Para una función solo agregamos a la lista un punto, seguido de la función y sus parámetros.     **lista.funcion(parámetro)**"
   ]
  },
  {
   "cell_type": "markdown",
   "metadata": {},
   "source": [
    "**Métodos importantes:**  append(x), insert(i, x), remove(x), pop( ), clear( ), index(x), count(x), sort( ), len( )*"
   ]
  },
  {
   "cell_type": "markdown",
   "metadata": {},
   "source": [
    "**<center> Actividad: ¿Para qué sirve cada uno? </center>** "
   ]
  },
  {
   "cell_type": "code",
   "execution_count": null,
   "metadata": {},
   "outputs": [],
   "source": [
    "lista = [4, 8, 16, 43, 23, 300, 44, 76, 65,44,44]\n",
    "print(lista)\n",
    "print(lista[8])\n",
    "lista.append(100)\n",
    "print(lista)\n",
    "\n",
    "print(len(lista))"
   ]
  },
  {
   "cell_type": "code",
   "execution_count": null,
   "metadata": {},
   "outputs": [],
   "source": [
    "lista = [4, 8, 16, 43, 23, 300, 29, 44, 76, 65]\n",
    "\n",
    "print(lista)\n",
    "\n",
    "lista.append(8)\n",
    "print(lista)\n",
    "\n",
    "lista.remove(16)\n",
    "print(lista)\n",
    "\n",
    "print(lista.index(300))\n",
    "\n",
    "lista.sort()\n",
    "print(lista)"
   ]
  },
  {
   "cell_type": "code",
   "execution_count": null,
   "metadata": {},
   "outputs": [],
   "source": [
    "# ¿Se podrá hacer una lista de elementos múltiples?\n",
    "\n",
    "otraLista = [[[1,2],2,4],[4,5,6],[8,9,0]]\n",
    "\n",
    "print(otraLista[0][0][0])"
   ]
  },
  {
   "cell_type": "markdown",
   "metadata": {},
   "source": [
    "Como **TODO** es un objeto en Python en teoría la lista contiene elementos del mismo tipo: Objetos con diferentes parámetros. Por lo tanto es posible una lista con diferentes tipos de datos."
   ]
  },
  {
   "cell_type": "markdown",
   "metadata": {},
   "source": [
    "### Tuplas"
   ]
  },
  {
   "cell_type": "markdown",
   "metadata": {},
   "source": [
    "Como las listas, las tuplas siguen la misma estructura. Son idénticas a las listas pero con una pequeña excepción: No son mutables. Si tratamos de cambiar algún elemento por otro o eliminar, nos marcará un error."
   ]
  },
  {
   "cell_type": "code",
   "execution_count": null,
   "metadata": {},
   "outputs": [],
   "source": [
    "tupla = (16,53,23,76,98,43,56,99,77,21,32) #Se usan paréntesis en lugar de corchetes\n",
    "print(tupla[1])"
   ]
  },
  {
   "cell_type": "markdown",
   "metadata": {},
   "source": [
    "Los errores generados son gracias a que queríamos modificar una tupla la cual no permite la asignación o no tiene el  método pop o similares que modifican a la misma. Podemos probar los métodos que no manipulen su estructura."
   ]
  },
  {
   "cell_type": "code",
   "execution_count": null,
   "metadata": {},
   "outputs": [],
   "source": [
    "print(tupla.index(99))"
   ]
  },
  {
   "cell_type": "markdown",
   "metadata": {},
   "source": [
    "**Y a todo ésto... ¿Para qué necesitamos tuplas si tenemos listas?**"
   ]
  },
  {
   "cell_type": "code",
   "execution_count": null,
   "metadata": {},
   "outputs": [],
   "source": [
    "x = [1,2,3,4,5]\n",
    "y = x\n",
    "print(y)"
   ]
  },
  {
   "cell_type": "code",
   "execution_count": null,
   "metadata": {
    "scrolled": true
   },
   "outputs": [],
   "source": [
    "x[0] = 10\n",
    "print(y)"
   ]
  },
  {
   "cell_type": "code",
   "execution_count": null,
   "metadata": {},
   "outputs": [],
   "source": [
    "id(x) == id(y)"
   ]
  },
  {
   "cell_type": "code",
   "execution_count": null,
   "metadata": {},
   "outputs": [],
   "source": [
    "z = (1,2,3,4,5)\n",
    "y = z\n",
    "x[1] = 50\n",
    "print(x)\n",
    "print(y)\n",
    "print(z)\n",
    "\n",
    "p = (1,2)\n",
    "q = [1,2]\n",
    "\n",
    "p is q"
   ]
  },
  {
   "cell_type": "markdown",
   "metadata": {},
   "source": [
    "### Diccionarios"
   ]
  },
  {
   "cell_type": "markdown",
   "metadata": {},
   "source": [
    "Los diccionarios son lo equivalente a tablas Hash, a cada llave se le asigna un valor. De manera sencilla podemos dar un ejemplo: Tenemos un buró con muchos cajones, en los cajones podemos guardar cosas que en este caso serán variables y cuando queramos buscar una crema en el buró, naturalmente tendremos qué saber en qué cajón está. Los cajones tienen una referencia (el cajón de abajo por ejemplo) y en el caso de los diccionarios, las llaves son los cajones y guardan variables."
   ]
  },
  {
   "cell_type": "code",
   "execution_count": null,
   "metadata": {},
   "outputs": [],
   "source": [
    "miDiccionario = {\"Hola\":[(1,2),6,7,True],\"verde\":\"kiwi\",\"amarillo\":\"platano\"}"
   ]
  },
  {
   "cell_type": "code",
   "execution_count": null,
   "metadata": {},
   "outputs": [],
   "source": [
    "print(miDiccionario[\"Hola\"][0][1])"
   ]
  },
  {
   "cell_type": "code",
   "execution_count": null,
   "metadata": {},
   "outputs": [],
   "source": [
    "print(otroDiccionario[True])"
   ]
  },
  {
   "cell_type": "code",
   "execution_count": null,
   "metadata": {
    "scrolled": true
   },
   "outputs": [],
   "source": [
    "print(otroDiccionario[\"p\"][0]) ## para ir por el elemento dentro del arreglo."
   ]
  },
  {
   "cell_type": "markdown",
   "metadata": {},
   "source": [
    "Como podemos ver, se hace una colección de elementos para podernos referirnos a éstos más adelante por otro nombre o con una llave.\n",
    "\n",
    "**Hasta éste momento:**"
   ]
  },
  {
   "cell_type": "markdown",
   "metadata": {},
   "source": [
    "## <center> [ ] corchetes para listas -> mutable</center>"
   ]
  },
  {
   "cell_type": "markdown",
   "metadata": {},
   "source": [
    "## <center> ( ) paréntesis para tuplas -> inmutable </center>"
   ]
  },
  {
   "cell_type": "markdown",
   "metadata": {},
   "source": [
    "## <center> { } llaves para diccionarios -> cajones </center>"
   ]
  },
  {
   "cell_type": "markdown",
   "metadata": {},
   "source": [
    " "
   ]
  },
  {
   "cell_type": "markdown",
   "metadata": {},
   "source": [
    "# <center> 🤨 ¿DUDAS? 👀</center>"
   ]
  },
  {
   "cell_type": "code",
   "execution_count": null,
   "metadata": {},
   "outputs": [],
   "source": [
    "profesores = [\"Laura\",\"Samuel\",\"Otro\",\"Hola\"]\n",
    "if profesores[0] == \"Laura\":\n",
    "    print(\"Laura se encuentra en la posición: \",profesores.index(\"Laura\"))\n",
    "if len(profesores) == 3:\n",
    "    print(\"Hay 3 profesores en el curso\")\n",
    "else:\n",
    "    profesores.append(\"Fulano\")\n",
    "    print(profesores)"
   ]
  },
  {
   "cell_type": "code",
   "execution_count": null,
   "metadata": {},
   "outputs": [],
   "source": [
    "arreglo = [1,2,3,4,5]\n",
    "if arreglo[1]*arreglo[2] == 2:\n",
    "    print(2)\n",
    "elif arreglo[3]*arreglo[2] == 12:\n",
    "    print(12)\n",
    "elif arreglo[1]*arreglo[3] == 8: # ¿Qué pasaría si reemplazo elif por if?\n",
    "    print(8)\n",
    "else:\n",
    "    print(0)"
   ]
  },
  {
   "cell_type": "markdown",
   "metadata": {},
   "source": [
    "## Ciclos"
   ]
  },
  {
   "cell_type": "markdown",
   "metadata": {},
   "source": [
    "Los ciclos nos permiten hacer repeticiones de procesos dentro de un rango que nosotros determinemos. Esto es útil para NO hacer cada uno de los procesos, por lo que haríamos líneas de código innecesarias. (Además, ¡qué flojera!)"
   ]
  },
  {
   "cell_type": "markdown",
   "metadata": {},
   "source": [
    "### Ciclo for (para cada)"
   ]
  },
  {
   "cell_type": "markdown",
   "metadata": {},
   "source": [
    "Los ciclos for en python funcionan tienen una estructura algo distinta en Python que por ejemplo C o Java. Para poder utilizarlo tendremos que hacer uso de la palabra reservada **in** y luego a decisión,\n",
    "\n",
    "La función range() nos devuelve un arreglo de números.\n",
    "\n",
    "Si range(x) le insertamos solo 1 parámetro, **\"x\"** simboliza el punto de llegada -1 desde 0 de 1 en 1.\n",
    "\n",
    "Si a range(x,y) le insertamos 2 parámetros, **\"x\"** simboliza el punto de partida y **\"y\"** el punto de llegada -1 y va contando de 1 en 1 hasta llegar.\n",
    "\n",
    "Si a range(x,y,z) le insertamos 3 parámetros, **\"x\"** simboliza el punto de partida, **\"y\"** el punto de llegada -1 y z de cuanto en cuánto va salteando."
   ]
  },
  {
   "cell_type": "code",
   "execution_count": null,
   "metadata": {},
   "outputs": [],
   "source": [
    "jaja = [1,4,6,8]\n",
    "jaja.append(1)\n",
    "jaja.append(2)\n",
    "jaja.append(3)\n",
    "print(jaja)"
   ]
  },
  {
   "cell_type": "code",
   "execution_count": null,
   "metadata": {},
   "outputs": [],
   "source": [
    "listaNormal = []\n",
    "\n",
    "for numeroInsertar in range(-4,-60,-2):\n",
    "        listaNormal.append(numeroInsertar)\n",
    "\n",
    "print(listaNormal)"
   ]
  },
  {
   "cell_type": "code",
   "execution_count": null,
   "metadata": {},
   "outputs": [],
   "source": [
    "a = range(10)\n",
    "b = range(-10,10)\n",
    "c = range(-10,10,2)\n",
    "\n",
    "for i in a:\n",
    "    print(i)\n",
    "print(\"\\n\")\n",
    "for i in b:\n",
    "    print(i)\n",
    "print(\"\\n\")\n",
    "for i in c:\n",
    "    print(i)"
   ]
  },
  {
   "cell_type": "markdown",
   "metadata": {},
   "source": [
    "Los ciclos for responden a range() y a una colección (lista, tupla o diccionario) para que sea recorrido. No es necesario colocar contadores adicionales."
   ]
  },
  {
   "cell_type": "code",
   "execution_count": null,
   "metadata": {},
   "outputs": [],
   "source": [
    "for i in [1,5,9,2,6,9,0]:\n",
    "    print(i)"
   ]
  },
  {
   "cell_type": "code",
   "execution_count": null,
   "metadata": {
    "scrolled": true
   },
   "outputs": [],
   "source": [
    "jaja2 = [1,4,6,8]\n",
    "for i in range(0,3,1): # ¿Cómo modifico ésto para que sea más sencillo?\n",
    "    jaja2.append(i)\n",
    "print(jaja2)"
   ]
  },
  {
   "cell_type": "code",
   "execution_count": null,
   "metadata": {},
   "outputs": [],
   "source": [
    "frutas = {'Fresa':'Roja','Limón':'Verde','Papaya':'Naranja','Manzana':'amarilla','Guayaba':'rosa'}\n",
    "for llave in frutas:\n",
    "    print(llave, 'es de color', frutas[llave])\n",
    "    "
   ]
  },
  {
   "cell_type": "markdown",
   "metadata": {},
   "source": [
    "## Ciclos while"
   ]
  },
  {
   "cell_type": "markdown",
   "metadata": {},
   "source": [
    "El ciclo while permite ejecutar un bloque de instrucciones mientras se cumpla la condición dada. Primero comprueba que en efecto se cumple la condición dada y entonces, ejecuta el segmento de código correspondiente hasta que la condición no se cumpla."
   ]
  },
  {
   "cell_type": "code",
   "execution_count": null,
   "metadata": {},
   "outputs": [],
   "source": [
    "numero = 0\n",
    "while numero <= 10:\n",
    "    print(numero)\n",
    "    numero += 1"
   ]
  },
  {
   "cell_type": "code",
   "execution_count": null,
   "metadata": {},
   "outputs": [],
   "source": [
    "nombre = \"\"\n",
    "\n",
    "while not nombre:\n",
    "    nombre = input('Escribe tu nombre')"
   ]
  },
  {
   "cell_type": "code",
   "execution_count": null,
   "metadata": {},
   "outputs": [],
   "source": [
    "while True:\n",
    "    entrada = input('Escibe tu nombre: ')\n",
    "    if not entrada: \n",
    "        break"
   ]
  },
  {
   "cell_type": "markdown",
   "metadata": {},
   "source": [
    "## Algunos elementos que nos pueden servir en ambos ciclos: Controles de bucles"
   ]
  },
  {
   "cell_type": "markdown",
   "metadata": {},
   "source": [
    "#### Break: \n",
    "Nos permite romper el ciclo, o sea que deje de ciclar"
   ]
  },
  {
   "cell_type": "code",
   "execution_count": 1,
   "metadata": {},
   "outputs": [
    {
     "name": "stdout",
     "output_type": "stream",
     "text": [
      "El número es:  0\n",
      "El número es:  1\n",
      "El número es:  2\n",
      "El número es:  3\n",
      "El número es:  4\n",
      "Se murió\n",
      "El número es:  0\n",
      "El número es:  1\n",
      "El número es:  2\n",
      "El número es:  3\n",
      "El número es:  4\n",
      "Se murió\n"
     ]
    }
   ],
   "source": [
    "for number in range(10):\n",
    "    if number == 5:\n",
    "        break    # break here\n",
    "\n",
    "    print('El número es: ',number)\n",
    "    \n",
    "print('Se murió')"
   ]
  },
  {
   "cell_type": "code",
   "execution_count": 2,
   "metadata": {},
   "outputs": [
    {
     "name": "stdout",
     "output_type": "stream",
     "text": [
      "0\n",
      "1\n",
      "2\n",
      "3\n",
      "4\n",
      "5\n",
      "0\n",
      "1\n",
      "2\n",
      "3\n",
      "4\n",
      "5\n"
     ]
    }
   ],
   "source": [
    "ejemplo = 0\n",
    "while True:   \n",
    "    if ejemplo == 6:\n",
    "        break\n",
    "    print(ejemplo)\n",
    "    ejemplo += 1"
   ]
  },
  {
   "cell_type": "markdown",
   "metadata": {},
   "source": [
    "#### Continue: \n",
    "Nos permite saltar uno o muchos pasos de todo el ciclo por si a caso no los queremos"
   ]
  },
  {
   "cell_type": "code",
   "execution_count": 2,
   "metadata": {
    "scrolled": true
   },
   "outputs": [
    {
     "name": "stdout",
     "output_type": "stream",
     "text": [
      "0\n",
      "1\n",
      "2\n",
      "3\n",
      "6\n",
      "7\n",
      "8\n",
      "9\n",
      "0\n",
      "1\n",
      "2\n",
      "3\n",
      "6\n",
      "7\n",
      "8\n",
      "9\n"
     ]
    }
   ],
   "source": [
    "for numero in range(10):\n",
    "    if numero == 5 or numero == 4:\n",
    "        continue    # continue here\n",
    "    print(numero)"
   ]
  },
  {
   "cell_type": "markdown",
   "metadata": {},
   "source": [
    "#### Pass: \n",
    "Por ultimo tenemos a pass, que tal como su nombre lo indica es una operación nula, o sea que no pasa nada cuando se ejecuta. Se utiliza cuando se requiere por sintaxis una declaración pero no se quiere ejecutar ningún comando o código. También se utiliza en lugares donde donde el código irá finalmente, pero no ha sido escrita todavía"
   ]
  },
  {
   "cell_type": "code",
   "execution_count": 3,
   "metadata": {
    "scrolled": true
   },
   "outputs": [
    {
     "name": "stdout",
     "output_type": "stream",
     "text": [
      "Number is 0\n",
      "Number is 1\n",
      "Number is 2\n",
      "Number is 3\n",
      "Number is 4\n",
      "Hola\n",
      "Adiós\n",
      "Number is 5\n",
      "Number is 6\n",
      "Number is 7\n",
      "Number is 8\n",
      "Number is 9\n",
      "Out of loop\n",
      "Number is 0\n",
      "Number is 1\n",
      "Number is 2\n",
      "Number is 3\n",
      "Number is 4\n",
      "Hola\n",
      "Adiós\n",
      "Number is 5\n",
      "Number is 6\n",
      "Number is 7\n",
      "Number is 8\n",
      "Number is 9\n",
      "Out of loop\n"
     ]
    }
   ],
   "source": [
    "for number in range(10):\n",
    "    if number == 5:\n",
    "        print(\"Hola\")\n",
    "        pass\n",
    "        print(\"Adiós\")\n",
    "    print('Number is ' + str(number))\n",
    "\n",
    "print('Out of loop')"
   ]
  },
  {
   "cell_type": "markdown",
   "metadata": {},
   "source": [
    "### Listas por comprensión"
   ]
  },
  {
   "cell_type": "markdown",
   "metadata": {},
   "source": [
    "No, no es comprender literalmente las listas o tuplas o lo que sea, significa que podemos ahorrarnos unas líneas de código escribiendo o creando una lista con un for dentro. Veamos un ejemplo:"
   ]
  },
  {
   "cell_type": "code",
   "execution_count": 7,
   "metadata": {},
   "outputs": [
    {
     "name": "stdout",
     "output_type": "stream",
     "text": [
      "ola ke ace\n",
      "Ola ke ace\n",
      "ola ke ace\n",
      "Ola ke ace\n"
     ]
    }
   ],
   "source": [
    "saludo = \"ola ke ace\"\n",
    "print(saludo)\n",
    "\n",
    "print(saludo.capitalize())"
   ]
  },
  {
   "cell_type": "code",
   "execution_count": 8,
   "metadata": {},
   "outputs": [
    {
     "name": "stdout",
     "output_type": "stream",
     "text": [
      "['Python', 'C', 'C++', 'Java', 'Swift', 'Kotlin', 'C#', 'Shell', 'Php', 'Js']\n",
      "['Python', 'C', 'C++', 'Java', 'Swift', 'Kotlin', 'C#', 'Shell', 'Php', 'Js']\n"
     ]
    }
   ],
   "source": [
    "lenguajes = [\"python\", \"c\", \"c++\", \"java\",\"swift\",\"kotlin\",\"c#\",\"shell\",\"php\",\"js\"]\n",
    "lenguajesEnMayusculas = []\n",
    "\n",
    "for cadaUno in lenguajes:\n",
    "    lenguajesEnMayusculas.append(cadaUno.capitalize())\n",
    "\n",
    "print(lenguajesEnMayusculas)"
   ]
  },
  {
   "cell_type": "code",
   "execution_count": null,
   "metadata": {},
   "outputs": [],
   "source": [
    "##Podemos reducirlo a ésto:\n",
    "otraVezEnMayusculas = [cadaLenguaje.capitalize() for cadaLenguaje in lenguajes]\n",
    "print(otraVezEnMayusculas)"
   ]
  },
  {
   "cell_type": "code",
   "execution_count": null,
   "metadata": {
    "scrolled": true
   },
   "outputs": [],
   "source": [
    "numeros = [1, 2, 3, 4, 5]\n",
    "alcuadrado = [n ** 2 for n in numeros]\n",
    "print(alcuadrado)"
   ]
  },
  {
   "cell_type": "markdown",
   "metadata": {},
   "source": [
    "## Preparados listos: Funciones ⭐️"
   ]
  },
  {
   "cell_type": "markdown",
   "metadata": {},
   "source": [
    "Una función es un bloque de código con un nombre asociado, que recibe cero o más argumentos como entrada, sigue una secuencia de sentencias, la cuales ejecuta una operación deseada y devuelve un valor y/o realiza una tarea."
   ]
  },
  {
   "cell_type": "markdown",
   "metadata": {},
   "source": [
    "La sentencia def es una definición de función usada para crear objetos funciones definidas por el usuario."
   ]
  },
  {
   "cell_type": "code",
   "execution_count": 12,
   "metadata": {},
   "outputs": [],
   "source": [
    " def hola(nombre):   # def: Se utiliza siempre que queramos definir una función\n",
    "        print(\"Hola\", nombre, \"!\")"
   ]
  },
  {
   "cell_type": "code",
   "execution_count": 13,
   "metadata": {},
   "outputs": [
    {
     "name": "stdout",
     "output_type": "stream",
     "text": [
      "Hola Alicia !\n",
      "Hola Alicia !\n"
     ]
    }
   ],
   "source": [
    "hola(\"Alicia\")"
   ]
  },
  {
   "cell_type": "markdown",
   "metadata": {},
   "source": [
    "### ¿Cómo se le conoce a lo que va entre paréntesis? \n",
    "Al definir una función los valores los cuales se reciben se denominan parámetros, pero durante la llamada los valores que se envían se denominan argumentos"
   ]
  },
  {
   "cell_type": "code",
   "execution_count": 14,
   "metadata": {},
   "outputs": [
    {
     "name": "stdout",
     "output_type": "stream",
     "text": [
      "7\n",
      "7\n"
     ]
    }
   ],
   "source": [
    "def suma(a,b): ## Aquí a y b se le conoce como parámetros\n",
    "    print(a+b)\n",
    "\n",
    "suma(5,2) ## aquí a 5 y 2 se le denomina argumentos"
   ]
  },
  {
   "cell_type": "code",
   "execution_count": 15,
   "metadata": {},
   "outputs": [
    {
     "name": "stdout",
     "output_type": "stream",
     "text": [
      "25\n",
      "25\n"
     ]
    }
   ],
   "source": [
    "def f(x,y):\n",
    "    print(x**2 + 2*x + 1 + y**2)\n",
    "\n",
    "f(2,4)"
   ]
  },
  {
   "cell_type": "markdown",
   "metadata": {},
   "source": [
    "### Valores de retorno\n",
    "Qué tal si queremos lo que suceda dentro de la función para otras cosas, no sé digamos que hace una operación matemática y queremos el resultado para otras cuentas. Existe algo que se llama return o valor retorno que quiere decir lo que devuelve la función\n"
   ]
  },
  {
   "cell_type": "code",
   "execution_count": 19,
   "metadata": {},
   "outputs": [
    {
     "name": "stdout",
     "output_type": "stream",
     "text": [
      "8\n",
      "8\n"
     ]
    }
   ],
   "source": [
    "def suma(a, b):\n",
    "    return a + b\n",
    "\n",
    "print(suma(5,3))"
   ]
  },
  {
   "cell_type": "code",
   "execution_count": null,
   "metadata": {},
   "outputs": [],
   "source": [
    "## Achis achis y mi suma?\n",
    "\n",
    "print(suma(5,3))"
   ]
  },
  {
   "cell_type": "code",
   "execution_count": 20,
   "metadata": {},
   "outputs": [
    {
     "name": "stdout",
     "output_type": "stream",
     "text": [
      "35\n",
      "35\n"
     ]
    }
   ],
   "source": [
    "#Vamos a ver un ejemplo matemático x^2\n",
    "\n",
    "def f(x):\n",
    "    y = x**2\n",
    "    return y\n",
    "\n",
    "operacion = f(5) + 10\n",
    "print(operacion)"
   ]
  },
  {
   "cell_type": "code",
   "execution_count": 21,
   "metadata": {
    "scrolled": true
   },
   "outputs": [
    {
     "name": "stdout",
     "output_type": "stream",
     "text": [
      "4\n",
      "-4\n",
      "4\n",
      "-4\n"
     ]
    }
   ],
   "source": [
    "## Se puede llamar a los parámetros de una función por posición o por nombre:\n",
    "\n",
    "def algo(a,b):\n",
    "    print(a-b)\n",
    "    \n",
    "algo(5,1)\n",
    "algo(b=5,a=1)"
   ]
  },
  {
   "cell_type": "code",
   "execution_count": 23,
   "metadata": {},
   "outputs": [
    {
     "name": "stdout",
     "output_type": "stream",
     "text": [
      "-5\n",
      "-4\n",
      "9\n",
      "-5\n",
      "-4\n",
      "9\n"
     ]
    }
   ],
   "source": [
    "## También puede tener parámetros por defecto:\n",
    "\n",
    "def cosa(a=0,b=5):\n",
    "    print(a-b)\n",
    "    \n",
    "cosa()\n",
    "cosa(b=5,a=1)\n",
    "cosa(10,1)"
   ]
  },
  {
   "cell_type": "code",
   "execution_count": 27,
   "metadata": {},
   "outputs": [
    {
     "name": "stdout",
     "output_type": "stream",
     "text": [
      "5\n",
      "None\n",
      "5\n",
      "None\n"
     ]
    }
   ],
   "source": [
    "## Puede haber una función dentro de otra?\n",
    "\n",
    "def funcion(p,q):\n",
    "    r = p + q\n",
    "    \n",
    "    def funcion2(s):\n",
    "        print(s)\n",
    "        \n",
    "    funcion2(5)\n",
    "\n",
    "print(funcion(8,8))"
   ]
  },
  {
   "cell_type": "code",
   "execution_count": 26,
   "metadata": {},
   "outputs": [
    {
     "data": {
      "text/plain": [
       "False"
      ]
     },
     "execution_count": 26,
     "metadata": {},
     "output_type": "execute_result"
    },
    {
     "data": {
      "text/plain": [
       "False"
      ]
     },
     "execution_count": 26,
     "metadata": {},
     "output_type": "execute_result"
    }
   ],
   "source": [
    "def multiplo(n):\n",
    "    def multiploDe(num):\n",
    "        return num%n == 0\n",
    "    return multiploDe\n",
    "(multiplo(9))(3)"
   ]
  },
  {
   "cell_type": "code",
   "execution_count": null,
   "metadata": {},
   "outputs": [],
   "source": [
    "(multiplo(3))(9)"
   ]
  },
  {
   "cell_type": "code",
   "execution_count": 28,
   "metadata": {},
   "outputs": [
    {
     "name": "stdout",
     "output_type": "stream",
     "text": [
      "9\n",
      "9\n"
     ]
    }
   ],
   "source": [
    "##Podemos mandar de lo que sea a los parámetros, hasta listas:\n",
    "\n",
    "def sumar(numbers):\n",
    "    result = 0\n",
    "    for number in numbers:\n",
    "        result += number\n",
    "    return result\n",
    "\n",
    "print(sumar([4,5]))"
   ]
  },
  {
   "cell_type": "markdown",
   "metadata": {},
   "source": [
    "## Ejercicio: Hacer una calculadora 🧮"
   ]
  },
  {
   "cell_type": "markdown",
   "metadata": {},
   "source": [
    "- Suma\n",
    "- Resta\n",
    "- Multiplicación\n",
    "- División\n",
    "- Cuadrado\n",
    "- Residuo"
   ]
  },
  {
   "cell_type": "markdown",
   "metadata": {},
   "source": [
    "## Recursividad: Llamada a sí misma de una función"
   ]
  },
  {
   "cell_type": "markdown",
   "metadata": {},
   "source": [
    "![](remote.jpg)"
   ]
  },
  {
   "cell_type": "code",
   "execution_count": null,
   "metadata": {},
   "outputs": [],
   "source": [
    "print(\"Trump: Hey siri, how many miles did i ran today?\")\n",
    "print(\"Siri: ok, sending missiles to Iran today!\")\n",
    "\n",
    "def cuenta_regresiva(numero):\n",
    "    numero -= 1\n",
    "    if numero > 0:\n",
    "        print(numero)\n",
    "        cuenta_regresiva(numero)\n",
    "    else:\n",
    "        print(numero)\n",
    "\n",
    "cuenta_regresiva(5)"
   ]
  },
  {
   "cell_type": "code",
   "execution_count": null,
   "metadata": {},
   "outputs": [],
   "source": [
    "def factorial(numero):\n",
    "    if numero > 1:\n",
    "        numero = numero * factorial(numero -1)\n",
    "    print (\"Factorial de: \",numero)\n",
    "    return numero\n",
    "print(\"El factorial de 9 es: \",factorial(9))"
   ]
  },
  {
   "cell_type": "markdown",
   "metadata": {},
   "source": [
    "## Iteradores y generadores\n",
    "Los \"iteradores\" y \"generadores\" son objetos que cuentan con el método __next__(), el cual regresa una serie de objetos de uno en uno cada vez que es invocado."
   ]
  },
  {
   "cell_type": "code",
   "execution_count": null,
   "metadata": {
    "scrolled": true
   },
   "outputs": [],
   "source": [
    "lista = ['1', 2, 'tres', 4.0]\n",
    "print(lista)"
   ]
  },
  {
   "cell_type": "code",
   "execution_count": null,
   "metadata": {},
   "outputs": [],
   "source": [
    "iterador = iter(lista)\n",
    "print(iterador)"
   ]
  },
  {
   "cell_type": "code",
   "execution_count": null,
   "metadata": {},
   "outputs": [],
   "source": [
    "next(iterador)"
   ]
  },
  {
   "cell_type": "code",
   "execution_count": null,
   "metadata": {},
   "outputs": [],
   "source": [
    "next(iterador)"
   ]
  },
  {
   "cell_type": "code",
   "execution_count": null,
   "metadata": {
    "scrolled": true
   },
   "outputs": [],
   "source": [
    "next(iterador)"
   ]
  },
  {
   "cell_type": "markdown",
   "metadata": {},
   "source": [
    "### Yield\n",
    "Básicamente los generadores se escriben funciones normales, pero usan la sentencia yield en vez de un return dentro de un bucle. Yield funciona de manera similar al return, pero la gracia de usar el yield es que conserva la iteración del bucle para la siguiente vez que se le invoque"
   ]
  },
  {
   "cell_type": "code",
   "execution_count": null,
   "metadata": {},
   "outputs": [],
   "source": [
    "def contador(max):\n",
    "    n=0\n",
    "    while n < max:\n",
    "            yield n\n",
    "            n=n+1\n",
    "\n",
    "miCuenta = contador(5)\n",
    "print(miCuenta)\n",
    "for i in miCuenta:\n",
    "    print(i)"
   ]
  },
  {
   "cell_type": "markdown",
   "metadata": {},
   "source": [
    "El resultado es el mismo que si, en lugar de mycont = contador(5) hubiéramos instanciado una lista: mycont = [0,1,2,3,4] o mycont = range(0,5). Pero de hecho lo que ocurre es muy diferente.\n",
    "\n",
    "Cuando el intérprete Python encuentra una función que incluye un yield (o varios), entiende que al llamar esta función no obtendremos un valor devuelto con un return, sino que obtendremos un generador (generator).\n",
    "\n",
    "Un generador se comporta parecido a una lista, en el sentido que puede ser recorrida con un iterador - la diferencia es que los valores no están almacenados en una colección, sino que se generan \"on the fly\"."
   ]
  },
  {
   "cell_type": "markdown",
   "metadata": {},
   "source": [
    "## Decoradores"
   ]
  },
  {
   "cell_type": "markdown",
   "metadata": {},
   "source": [
    "Los decoradores son en sí mismos funciones, que toman como argumento una función y retornan otra función."
   ]
  },
  {
   "cell_type": "code",
   "execution_count": 55,
   "metadata": {},
   "outputs": [
    {
     "name": "stdout",
     "output_type": "stream",
     "text": [
      "Función sumar() llamada!\n",
      "12\n"
     ]
    }
   ],
   "source": [
    "def decorador(pasadaSuma):\n",
    "    def function(a, b):\n",
    "        print(\"Función sumar() llamada!\")\n",
    "        return pasadaSuma(a, b)\n",
    "    return function\n",
    "\n",
    "@decorador\n",
    "def sumar(a, b):\n",
    "    return a + b\n",
    "\n",
    "print(sumar(7, 5))"
   ]
  },
  {
   "cell_type": "markdown",
   "metadata": {},
   "source": [
    "## Lambdas"
   ]
  },
  {
   "cell_type": "markdown",
   "metadata": {},
   "source": [
    "Se trata de crear funciones de manera rápida, just in time, sobre la marcha, para prototipos ligeros que requieren únicamente de una pequeña operación o comprobación.\n",
    "\n",
    "```python\n",
    "lambda argumentos: resultado\n",
    "```"
   ]
  },
  {
   "cell_type": "code",
   "execution_count": null,
   "metadata": {},
   "outputs": [],
   "source": [
    "def f(x, y, z):\n",
    "    return (x+y) * z\n",
    "\n",
    "print(f(5,6,4))"
   ]
  },
  {
   "cell_type": "code",
   "execution_count": null,
   "metadata": {},
   "outputs": [],
   "source": [
    "f = lambda x, y, z: (x+y) * z\n",
    "\n",
    "print(f(5,6,7))"
   ]
  },
  {
   "cell_type": "code",
   "execution_count": null,
   "metadata": {},
   "outputs": [],
   "source": [
    "def funcionNormal(n):\n",
    "    return lambda a : a * n\n",
    "\n",
    "resultado = funcionNormal(3)\n",
    "\n",
    "print(resultado(11))"
   ]
  },
  {
   "cell_type": "markdown",
   "metadata": {},
   "source": [
    "### Ejercicio si no tienen nada qué hacer en casa, el primero que lo envíe ya tiene su constacia:\n",
    "\n",
    "Si enlistamos los números primos: 2, 3, 5, 7, 11, y 13, vemos que el 13 es el 6to primo.\n",
    "\n",
    "¿Cuál es el primo de la posición 10 001?"
   ]
  },
  {
   "cell_type": "markdown",
   "metadata": {},
   "source": [
    "# Programación Orientada a Objectos con Python 🐆"
   ]
  },
  {
   "cell_type": "markdown",
   "metadata": {},
   "source": [
    "La Programación Orientada a Objetos (POO u OOP según sus siglas en inglés) es un paradigma de programación que usa objetos y sus interacciones para diseñar aplicaciones y programas de computadora. Está basado en varias técnicas, incluyendo herencia, modularidad, polimorfismo, y encapsulamiento. Su uso se popularizó a principios de la década de 1990. Actualmente son muchos los lenguajes de programación que soportan la orientación a objetos.\n",
    "\n",
    "La programación Orientada a objetos (POO) es una forma especial de programar, más cercana a como se expresan las cosas en la vida real que otros tipos de programación."
   ]
  },
  {
   "cell_type": "markdown",
   "metadata": {},
   "source": [
    "## Para su ditcionario\n",
    "\n",
    "#### Clase\n",
    "Definiciones de las propiedades y comportamiento de un tipo de objeto concreto. La instanciación es la lectura de estas definiciones y la creación de un objeto a partir de ellas.\n",
    "\n",
    "#### Objeto\n",
    "Instancia de una clase. Entidad provista de un conjunto de propiedades o atributos (datos) y de comportamiento o funcionalidad (métodos), los mismos que consecuentemente reaccionan a eventos. Se corresponden con los objetos reales del mundo que nos rodea, o con objetos internos del sistema (del programa). Es una instancia a una clase.\n",
    "\n",
    "#### Método\n",
    "Algoritmo asociado a un objeto (o a una clase de objetos), cuya ejecución se desencadena tras la recepción de un “mensaje”. Desde el punto de vista del comportamiento, es lo que el objeto puede hacer. Un método puede producir un cambio en las propiedades del objeto, o la generación de un “evento” con un nuevo mensaje para otro objeto del sistema.\n",
    "\n",
    "#### Comportamiento\n",
    "Está definido por los métodos o mensajes a los que sabe responder dicho objeto, es decir, qué operaciones se pueden realizar con él.\n",
    "\n",
    "#### Atributos\n",
    "Características que tiene la clase\n",
    "\n",
    "#### Componentes de un objeto\n",
    "Atributos, identidad, relaciones y métodos.\n",
    "\n",
    "#### Identificación de un objeto\n",
    "Un objeto se representa por medio de una tabla o entidad que esté compuesta por sus atributos y funciones correspondientes."
   ]
  },
  {
   "cell_type": "code",
   "execution_count": 92,
   "metadata": {},
   "outputs": [
    {
     "name": "stdout",
     "output_type": "stream",
     "text": [
      "El coche se esta desplazando sobre 4 ruedas\n",
      "Mi coche tiene  4\n"
     ]
    }
   ],
   "source": [
    "class Coche:\n",
    "    ruedas=4\n",
    "    def desplazamiento(self):\n",
    "        print(\"El coche se esta desplazando sobre 4 ruedas\")\n",
    "\n",
    "miCoche = Coche()\n",
    "miCoche.desplazamiento()\n",
    "print(\"Mi coche tiene \", miCoche.ruedas)"
   ]
  },
  {
   "cell_type": "code",
   "execution_count": 39,
   "metadata": {},
   "outputs": [
    {
     "name": "stdout",
     "output_type": "stream",
     "text": [
      "Hola soy  Leonardo , mi cédula es:  V-13458796  y mi sexo es:  M\n",
      "M\n"
     ]
    }
   ],
   "source": [
    "class Persona:\n",
    "    cedula = \"V-13458796\"\n",
    "    nombre = \"Leonardo\"\n",
    "    apellido = \"Caballero\"\n",
    "    sexo = \"M\"\n",
    "    \n",
    "    def saludar(self):\n",
    "        print(\"Hola soy \",self.nombre,\", mi cédula es: \",self.cedula,\" y mi sexo es: \",self.sexo)\n",
    "\n",
    "PersonaCreada = Persona()\n",
    "type(PersonaCreada)\n",
    "dir(PersonaCreada)\n",
    "PersonaCreada.saludar()\n",
    "print(PersonaCreada.sexo)"
   ]
  },
  {
   "cell_type": "markdown",
   "metadata": {},
   "source": [
    "## Atributos y métodos 🐘\n",
    "\n",
    "### Atributos: características con las que cuenta un objeto -> Adjetivos calificativos\n",
    "### Métodos: cosas que puede hacer el objecto -> verbos\n",
    "\n",
    "### Atributos de instancia\n",
    "Atributos de Instancia\n",
    "\n",
    "Los atributos de instancia son aplicables a un solo objeto. Determinan el estado en el que se encuentra un objeto.\n",
    "\n",
    "**Ejemplo:**\n",
    "El atributo altura en la clase Persona es de instancia, debido a que cada persona tendrá su propia altura.\n",
    "\n",
    "### Atributos de clase\n",
    "\n",
    "  Un atributo de clase es un atributo común a todos los objetos instanciados de la clase. Al estar definido en la clase no hace falta instanciar la clase para utilizarlo. Las constantes se suelen definir como atributos de clase.\n",
    "\n",
    "**Ejemplo:**\n",
    "El atributo cantidadDeOjos en la clase Persona es de clase, debido a que todas las instancias de la clase persona tendrán igual cantidad de ojos."
   ]
  },
  {
   "cell_type": "code",
   "execution_count": 58,
   "metadata": {},
   "outputs": [
    {
     "name": "stdout",
     "output_type": "stream",
     "text": [
      "V-13458796\n",
      "Juan\n"
     ]
    }
   ],
   "source": [
    "class Empleado:\n",
    "    cedula = \"V-13458796\"\n",
    "    nombre = \"\"\n",
    "    def inicializar(self,nombreInsertado):\n",
    "        self.nombre = nombreInsertado\n",
    "\n",
    "juanito = Empleado()\n",
    "juanito.inicializar(\"Juan\")\n",
    "print(juanito.cedula)\n",
    "print(juanito.nombre)"
   ]
  },
  {
   "cell_type": "markdown",
   "metadata": {},
   "source": [
    "### Métodos de clase -> Puede o no existir el objeto 🐳\n",
    "Un método de clase puede modificar el estado de una clase, accediendo a los atributos de dicha clase, aún cuando el método es invocado desde una clase. En lugar de definirse utilizando self como primer parámetro, se utiliza cls.\n",
    "\n",
    "### Métodos de instancia -> Tiene a fuerzas que existir el objeto 🌱\n",
    "Son los que hemos visto def(self):\n",
    "\n",
    "### Métodos estáticos -> Puede o no existir el objeto pero no puede acceder a los atributos del mismo 🐙\n",
    "Los métodos estáticos están restringidos en su ámbito, de tal manera que no tienen acceso a los atributos del objeto. Se definen de forma idéntica a una función, sin necesidad de ingresar el parámetro inicial self.\n"
   ]
  },
  {
   "cell_type": "code",
   "execution_count": 87,
   "metadata": {},
   "outputs": [],
   "source": [
    "class PoblacionCensada:\n",
    "    poblacion = 0\n",
    "    nombre = \"\"\n",
    "    poblacion = 0\n",
    "    @classmethod\n",
    "    def opera_poblacion(cls, operador, cantidad):\n",
    "        cls.poblacion = eval(str(cls.poblacion) + operador + str(cantidad))\n",
    "    \n",
    "    @classmethod\n",
    "    def despliega_total(cls):\n",
    "        return cls.poblacion\n",
    "    \n",
    "    def __init__(self, nombre, numero=0):\n",
    "        print(\"Se ha creado la población\",nombre,\" con \",numero,\" habitantes\")\n",
    "        self.nombre = nombre\n",
    "        self.poblacion = numero\n",
    "        self.opera_poblacion('+', self.poblacion)   \n",
    "    \n",
    "    \n",
    "    def imprimirHola(self):\n",
    "        print(\"Hola mi nombre es: \",self.nombre,\" y mi número de habitantes es: \",self.poblacion)"
   ]
  },
  {
   "cell_type": "code",
   "execution_count": 88,
   "metadata": {
    "scrolled": true
   },
   "outputs": [
    {
     "name": "stdout",
     "output_type": "stream",
     "text": [
      "0\n"
     ]
    }
   ],
   "source": [
    "print(PoblacionCensada.despliega_total())"
   ]
  },
  {
   "cell_type": "code",
   "execution_count": 89,
   "metadata": {
    "scrolled": true
   },
   "outputs": [],
   "source": [
    "#print(PoblacionCensada.imprimirHola())"
   ]
  },
  {
   "cell_type": "code",
   "execution_count": 90,
   "metadata": {
    "scrolled": true
   },
   "outputs": [
    {
     "name": "stdout",
     "output_type": "stream",
     "text": [
      "Se ha creado la población Valle de Chalco  con  1000000  habitantes\n",
      "Hola mi nombre es:  Valle de Chalco  y mi número de habitantes es:  1000000\n"
     ]
    }
   ],
   "source": [
    "Chalco = PoblacionCensada(\"Valle de Chalco\",1000000)\n",
    "Chalco.imprimirHola()"
   ]
  },
  {
   "cell_type": "code",
   "execution_count": 91,
   "metadata": {},
   "outputs": [],
   "source": [
    "class Servidor:\n",
    "    usuarios_activos = set(())\n",
    "    \n",
    "    def __init__(self, dominio, lista):\n",
    "        self.lista_usuarios = lista\n",
    "        self.dominio = dominio\n",
    "    \n",
    "    def conexion(self, usuario):\n",
    "        if usuario in self.lista_usuarios:\n",
    "            self.usuarios_activos.add(usuario)\n",
    "        else:\n",
    "            return False\n",
    "        \n",
    "    @staticmethod\n",
    "    def ping(ip):\n",
    "        return ip  "
   ]
  },
  {
   "cell_type": "code",
   "execution_count": 86,
   "metadata": {},
   "outputs": [
    {
     "data": {
      "text/plain": [
       "'1.1.1.1'"
      ]
     },
     "execution_count": 86,
     "metadata": {},
     "output_type": "execute_result"
    }
   ],
   "source": [
    "Servidor.ping(\"1.1.1.1\")"
   ]
  },
  {
   "cell_type": "markdown",
   "metadata": {},
   "source": [
    "### Método init"
   ]
  },
  {
   "cell_type": "markdown",
   "metadata": {},
   "source": [
    "El método __init__ es el primer método que se ejecuta cuando se crea un objeto.\n",
    "El método __init__ se llama automáticamente. Es decir es imposible de olvidarse de llamarlo ya que se llamará automáticamente."
   ]
  },
  {
   "cell_type": "code",
   "execution_count": 40,
   "metadata": {},
   "outputs": [],
   "source": [
    "class Empleado:\n",
    "\n",
    "    def __init__(self):\n",
    "        self.nombre=input(\"Ingrese el nombre del empleado:\")\n",
    "        self.sueldo=float(input(\"Ingrese el sueldo:\"))\n",
    "\n",
    "    def imprimir(self):\n",
    "        print(\"Nombre:\",self.nombre)\n",
    "        print(\"Sueldo:\",self.sueldo)\n",
    "\n",
    "    def paga_impuestos(self):\n",
    "        if self.sueldo>3000:\n",
    "            print(\"Debe pagar impuestos\")\n",
    "        else:\n",
    "            print(\"No paga impuestos\")"
   ]
  },
  {
   "cell_type": "code",
   "execution_count": 41,
   "metadata": {
    "scrolled": true
   },
   "outputs": [
    {
     "name": "stdout",
     "output_type": "stream",
     "text": [
      "Ingrese el nombre del empleado:Jorge\n",
      "Ingrese el sueldo:500000\n"
     ]
    }
   ],
   "source": [
    "Jorge = Empleado()"
   ]
  },
  {
   "cell_type": "code",
   "execution_count": 42,
   "metadata": {
    "scrolled": true
   },
   "outputs": [
    {
     "name": "stdout",
     "output_type": "stream",
     "text": [
      "Nombre: Jorge\n",
      "Sueldo: 500000.0\n"
     ]
    }
   ],
   "source": [
    "Jorge.imprimir()"
   ]
  },
  {
   "cell_type": "code",
   "execution_count": 43,
   "metadata": {
    "scrolled": true
   },
   "outputs": [
    {
     "name": "stdout",
     "output_type": "stream",
     "text": [
      "Debe pagar impuestos\n"
     ]
    }
   ],
   "source": [
    "Jorge.paga_impuestos()"
   ]
  },
  {
   "cell_type": "code",
   "execution_count": 48,
   "metadata": {},
   "outputs": [
    {
     "name": "stdout",
     "output_type": "stream",
     "text": [
      "Coordenada del punto\n",
      "( 3 , 4 )\n",
      "Primer cuadrange\n"
     ]
    }
   ],
   "source": [
    "# otro ejemplo\n",
    "\n",
    "class Punto:\n",
    "\n",
    "    def __init__(self,x,y):\n",
    "        self.x=x\n",
    "        self.y=y\n",
    "\n",
    "    def imprimir(self):\n",
    "        print(\"Coordenada del punto\")\n",
    "        print(\"(\",self.x,\",\",self.y,\")\")\n",
    "\n",
    "    def imprimir_cuadrante(self):\n",
    "        if self.x>0 and self.y>0:\n",
    "            print(\"Primer cuadrange\")\n",
    "        else:\n",
    "            if self.x<0 and self.y>0:\n",
    "                print(\"Segundo cuadrante\")\n",
    "            else:\n",
    "                if self.x<0 and self.y<0:\n",
    "                    print(\"Tercer cuadrante\")\n",
    "                else:\n",
    "                    if self.x>0 and self.y<0:\n",
    "                        print(\"Cuarto cuadrante\")\n",
    "\n",
    "punto1=Punto(3,4) ##Puede iniciarlizarse en el objeto\n",
    "punto1.imprimir()\n",
    "punto1.imprimir_cuadrante()"
   ]
  },
  {
   "cell_type": "markdown",
   "metadata": {},
   "source": [
    "## Pilares de la programación orientada a objetos 🦁\n",
    "\n",
    "### Abstracción\n",
    "permite identificar las características y comportamientos de un objeto y con los cuales se construirá la clase (plantilla).  Esto quiere decir que a través de este pilar o fundamento es posible reconocer los atributos y métodos de un objeto.\n",
    "\n",
    "### Encapsulamiento\n",
    "Es la característica de la POO que permite el ocultamiento de la complejidad del código, pertenece a la parte privada de la clase y que no puede ser vista desde ningún otro programa.\n",
    "\n",
    "### Herencia\n",
    "Es el pilar más fuerte que asegura la reutilización de código, ya que a partir de esta característica es posible reutilizar (heredar) las características y comportamientos de una clase superior llamada clase padre, a sus clases hijas, denominadas clases derivadas. Esto implica que una vez desarrollado el código de una clase base, su código puede ser reutilizado por las clases derivadas.\n",
    "\n",
    "### Polimorfismo\n",
    "A través de esta característica es posible definir varios métodos o comportamientos de un objeto bajo un mismo nombre, de forma tal que es posible modificar los parámetros del método, o reescribir su funcionamiento, o incrementar más funcionalidades a un método."
   ]
  },
  {
   "cell_type": "code",
   "execution_count": null,
   "metadata": {},
   "outputs": [],
   "source": [
    "## Abstracción : Ejercicio -> Abstraigan a un animal y luego a un perro"
   ]
  },
  {
   "cell_type": "code",
   "execution_count": 59,
   "metadata": {},
   "outputs": [],
   "source": [
    "### Encapsulamiento:\n",
    "\n",
    "class Ejemplo():\n",
    "    def publico(self):\n",
    "        return \"Soy un método público, a la vista de todo\"\n",
    "    def __privado(self):\n",
    "        return \"Soy un metodo privado, para ti no existo\""
   ]
  },
  {
   "cell_type": "code",
   "execution_count": 61,
   "metadata": {},
   "outputs": [
    {
     "name": "stdout",
     "output_type": "stream",
     "text": [
      "Soy un método público, a la vista de todo\n"
     ]
    }
   ],
   "source": [
    "miEjemplito = Ejemplo()\n",
    "print(miEjemplito.publico())"
   ]
  },
  {
   "cell_type": "code",
   "execution_count": 63,
   "metadata": {
    "scrolled": false
   },
   "outputs": [
    {
     "ename": "AttributeError",
     "evalue": "'Ejemplo' object has no attribute 'privado'",
     "output_type": "error",
     "traceback": [
      "\u001b[0;31m---------------------------------------------------------------------------\u001b[0m",
      "\u001b[0;31mAttributeError\u001b[0m                            Traceback (most recent call last)",
      "\u001b[0;32m<ipython-input-63-87e2d649978a>\u001b[0m in \u001b[0;36m<module>\u001b[0;34m()\u001b[0m\n\u001b[0;32m----> 1\u001b[0;31m \u001b[0mprint\u001b[0m\u001b[0;34m(\u001b[0m\u001b[0mmiEjemplito\u001b[0m\u001b[0;34m.\u001b[0m\u001b[0mprivado\u001b[0m\u001b[0;34m(\u001b[0m\u001b[0;34m)\u001b[0m\u001b[0;34m)\u001b[0m\u001b[0;34m\u001b[0m\u001b[0m\n\u001b[0m",
      "\u001b[0;31mAttributeError\u001b[0m: 'Ejemplo' object has no attribute 'privado'"
     ]
    }
   ],
   "source": [
    "print(miEjemplito.privado())"
   ]
  },
  {
   "cell_type": "code",
   "execution_count": 64,
   "metadata": {},
   "outputs": [],
   "source": [
    "class CajaDeSeguridad:\n",
    "    __contraclave = \"123qwe\"\n",
    "    \n",
    "    def seguro(self, clave):\n",
    "        if self.__contraclave == clave:\n",
    "            print(\"Acceso concedido.\")\n",
    "        else:\n",
    "            print(\"Acceso denegado.\")"
   ]
  },
  {
   "cell_type": "code",
   "execution_count": 65,
   "metadata": {
    "scrolled": true
   },
   "outputs": [
    {
     "name": "stdout",
     "output_type": "stream",
     "text": [
      "Acceso denegado.\n"
     ]
    }
   ],
   "source": [
    "unaCaja = CajaDeSeguridad()\n",
    "unaCaja.seguro(\"123456\")"
   ]
  },
  {
   "cell_type": "code",
   "execution_count": 66,
   "metadata": {
    "scrolled": true
   },
   "outputs": [
    {
     "name": "stdout",
     "output_type": "stream",
     "text": [
      "Acceso concedido.\n"
     ]
    }
   ],
   "source": [
    "unaCaja.seguro(\"123qwe\")"
   ]
  },
  {
   "cell_type": "code",
   "execution_count": 68,
   "metadata": {
    "scrolled": true
   },
   "outputs": [
    {
     "ename": "AttributeError",
     "evalue": "'CajaDeSeguridad' object has no attribute '__contraclave'",
     "output_type": "error",
     "traceback": [
      "\u001b[0;31m---------------------------------------------------------------------------\u001b[0m",
      "\u001b[0;31mAttributeError\u001b[0m                            Traceback (most recent call last)",
      "\u001b[0;32m<ipython-input-68-6ab4700a3208>\u001b[0m in \u001b[0;36m<module>\u001b[0;34m()\u001b[0m\n\u001b[0;32m----> 1\u001b[0;31m \u001b[0mprint\u001b[0m\u001b[0;34m(\u001b[0m\u001b[0munaCaja\u001b[0m\u001b[0;34m.\u001b[0m\u001b[0m__contraclave\u001b[0m\u001b[0;34m)\u001b[0m\u001b[0;34m\u001b[0m\u001b[0m\n\u001b[0m",
      "\u001b[0;31mAttributeError\u001b[0m: 'CajaDeSeguridad' object has no attribute '__contraclave'"
     ]
    }
   ],
   "source": [
    "print(unaCaja.__contraclave)"
   ]
  },
  {
   "cell_type": "code",
   "execution_count": 96,
   "metadata": {},
   "outputs": [],
   "source": [
    "class SerVivo():\n",
    "    def __init__(self, tipo, reino):\n",
    "        self.tipo = tipo\n",
    "        self.reino = reino"
   ]
  },
  {
   "cell_type": "code",
   "execution_count": 97,
   "metadata": {},
   "outputs": [],
   "source": [
    "## Herencia\n",
    "class Persona:\n",
    "    def __init__(self, cedula, nombre, apellido, sexo):\n",
    "        self.cedula = cedula\n",
    "        self.nombre = nombre\n",
    "        self.apellido = apellido\n",
    "        self.sexo = sexo\n",
    "\n",
    "    def hablar(self, mensaje):\n",
    "        return mensaje\n",
    "\n",
    "    def getGenero(self, sexo):\n",
    "        genero = ('Masculino','Femenino')\n",
    "        if sexo == \"M\":\n",
    "            return genero[0]\n",
    "        elif sexo == \"F\":\n",
    "            return genero[1]\n",
    "        else:\n",
    "            return \"Desconocido\""
   ]
  },
  {
   "cell_type": "code",
   "execution_count": 98,
   "metadata": {},
   "outputs": [],
   "source": [
    "class Supervisor(Persona):\n",
    "\n",
    "    def __init__(self, cedula, nombre, apellido, sexo, rol):\n",
    "        Persona.__init__(self, cedula, nombre, apellido, sexo)\n",
    "        self.rol = rol\n",
    "        self.tareas = ['10','11','12','13']\n",
    "\n",
    "    def consulta_tareas(self):\n",
    "        return tareas"
   ]
  },
  {
   "cell_type": "code",
   "execution_count": null,
   "metadata": {},
   "outputs": [],
   "source": [
    "Super"
   ]
  },
  {
   "cell_type": "code",
   "execution_count": null,
   "metadata": {},
   "outputs": [],
   "source": [
    "class Chalan(Persona)"
   ]
  },
  {
   "cell_type": "markdown",
   "metadata": {},
   "source": [
    "## Ligar con base de datos"
   ]
  },
  {
   "cell_type": "code",
   "execution_count": null,
   "metadata": {},
   "outputs": [],
   "source": [
    "import sqlite3\n",
    "from tkinter import *\n",
    "from tkinter import messagebox as tkMessageBox\n",
    "\n",
    "Base = sqlite3.connect(\"Contacts.db\")\n",
    "\n",
    "cursor = conexion.cursor()\n",
    "#Crear la tabla con cada uno de los atributos\n",
    "try:\n",
    "\tcursor.execute(\"\"\"CREATE TABLE sucursales (id INTEGER PRIMARY KEY , delegacion TEXT, telefono INTEGER, gerente TEXT)\"\"\")\n",
    "\tcursor.execute(\"\"\"INSERT INTO sucursales VALUES(1,\"Coyoacán\",556442312,\"Juan Lopez\")\"\"\")\n",
    "\tcursor.execute(\"\"\"INSERT INTO sucursales VALUES(2,\"Coyoacán\",524343323,\"Jorge Cardenas\")\"\"\")\n",
    "\tcursor.execute(\"\"\"INSERT INTO sucursales VALUES(3,\"Coyoacán\",435423423,\"David Alejandro\")\"\"\")\n",
    "\tcursor.execute(\"\"\"INSERT INTO sucursales VALUES(4,\"Coyoacán\",643523234,\"Daniel Ernesto\")\"\"\")\n",
    "\tcursor.execute(\"SELECT * FROM sucursales\")\n",
    "\tresultados = cursor.fetchall()\n",
    "\tprint(resultados)\n",
    "\n",
    "\tcursor.execute(\"\"\"UPDATE sucursales SET gerente = \"Pedro Díaz\" WHERE id = 3\"\"\")\n",
    "\tconexion.commit()\n",
    "\n",
    "\tcursor.execute(\"\"\"DELETE FROM sucursal WHERE id=4\"\"\")\n",
    "\tresultados = cursor.fetchall()\n",
    "\tresultados(resultados)\n",
    "except:\n",
    "\tcursor.execute('''DROP TABLE sucursales''')"
   ]
  },
  {
   "cell_type": "markdown",
   "metadata": {},
   "source": [
    "Para poder acceder a los elementos dentro de la base de datos podemos utilizar un complemento de SQLite. Primero necesitamos conectarnos a la base y luego con comandos SQL podemos agregar valores, crear tablas y eliminarlas. Podemos ver un bloque Try Catch aquí."
   ]
  },
  {
   "cell_type": "markdown",
   "metadata": {},
   "source": [
    "## Sockets en Python"
   ]
  },
  {
   "cell_type": "markdown",
   "metadata": {},
   "source": [
    "En python podemos hacer uso de los Sockets para poder recibir o mandar paquetes de información entre dispositivos. Lo que se necesita para abrir un socket es una dirección IP y un puerto. "
   ]
  },
  {
   "cell_type": "markdown",
   "metadata": {},
   "source": [
    "## La parte del Servidor"
   ]
  },
  {
   "cell_type": "code",
   "execution_count": null,
   "metadata": {},
   "outputs": [],
   "source": [
    "import socket  \n",
    "  \n",
    "s = socket.socket()   \n",
    "s.bind((\"localhost\", 9999))  \n",
    "s.listen(1)  \n",
    "  \n",
    "sc, addr = s.accept()  \n",
    "  \n",
    "while True:  \n",
    "      recibido = sc.recv(1024)  \n",
    "      if recibido == \"quit\":  \n",
    "         break        \n",
    "      print \"Recibido:\", recibido  \n",
    "      sc.send(recibido)  \n",
    "  \n",
    "print(\"adios\")  \n",
    "  \n",
    "sc.close()  \n",
    "s.close() "
   ]
  },
  {
   "cell_type": "markdown",
   "metadata": {},
   "source": [
    "## La parte del cliente"
   ]
  },
  {
   "cell_type": "code",
   "execution_count": null,
   "metadata": {},
   "outputs": [],
   "source": [
    "import socket  \n",
    "  \n",
    "s = socket.socket()   \n",
    "s.connect((\"localhost\", 9999))  \n",
    "  \n",
    "while True:  \n",
    "      mensaje = raw_input(\"> \")  \n",
    "      s.send(mensaje)  \n",
    "      if mensaje == \"quit\":  \n",
    "         break  \n",
    "  \n",
    "print \"adios\"  \n",
    "  \n",
    "s.close() "
   ]
  },
  {
   "cell_type": "markdown",
   "metadata": {},
   "source": [
    "## Ejemplo de métodos numéricos"
   ]
  },
  {
   "cell_type": "markdown",
   "metadata": {},
   "source": [
    "**<span style=\"color:red\"> ** IMPORTANTE ** </span>**\n",
    "\n",
    "Para escribir una ecuación tienes que separar todo y multiplicar con \\*:  \n",
    "f=2x+3 ❌     \n",
    "f = 2*x + 3 ✅\n",
    "\n",
    "Para poner una potencia por ejemplo $2^3$ es poniendo doble asterísco. Ejemplo:\n",
    "$$f(x) = x^2 + 2x +1$$\n",
    "*Equivale a:*"
   ]
  },
  {
   "cell_type": "markdown",
   "metadata": {},
   "source": [
    "#### Si quieres ejecutar debes hacerlo desde el principio del documento o desde donde empiezas a definir o no te saldrá el resultado. Para ejecutar debes presionar ALT + Enter en tu teclado sobre la celda que vas a interpretar"
   ]
  },
  {
   "cell_type": "code",
   "execution_count": null,
   "metadata": {},
   "outputs": [],
   "source": [
    "import sympy as sy\n",
    "from sympy.functions import sin,cos\n",
    "import math\n",
    "import matplotlib.pyplot as plt\n",
    "x = sy.symbols('x')\n",
    "def taylor(funcion,c,n):\n",
    "    i = 0\n",
    "    p = 0\n",
    "    while i <= n:\n",
    "        p = p + (funcion.diff(x,i).subs(x,c))/(math.factorial(i))*(x-c)**i\n",
    "        i += 1\n",
    "    return p"
   ]
  },
  {
   "cell_type": "code",
   "execution_count": null,
   "metadata": {
    "scrolled": true
   },
   "outputs": [],
   "source": [
    "#CAMBIA LA FUNCION, en dónde está alineado taylor (este caso c=0) y cuál es el mayor exponenete que quieres (este es 4)\n",
    "p = taylor(cos(x),0,4)\n",
    "print(\"El polinomios de Taylor es: \",p)"
   ]
  },
  {
   "cell_type": "code",
   "execution_count": null,
   "metadata": {},
   "outputs": [],
   "source": [
    "#Coloca aquí la evaluación del mismo\n",
    "x=math.pi/3\n",
    "## COLOCA AQUÍ EL RESULTADO DEL ANTERIOR POR AHORA D:\n",
    "VALOROBTENIDO = x**4/24 - x**2/2 + 1\n",
    "print(\"El valor de taylor es: \",VALOROBTENIDO)"
   ]
  },
  {
   "cell_type": "markdown",
   "metadata": {},
   "source": [
    "## Método de bisección 📊"
   ]
  },
  {
   "cell_type": "code",
   "execution_count": null,
   "metadata": {},
   "outputs": [],
   "source": [
    "# Inserta la ecuación a buscar raíz\n",
    "fx = lambda x: x**2 + 9*x + 4"
   ]
  },
  {
   "cell_type": "code",
   "execution_count": null,
   "metadata": {},
   "outputs": [],
   "source": [
    "# Inserta tu rango y tolerancia\n",
    "a = -5\n",
    "b = 2\n",
    "tolera = 0.01"
   ]
  },
  {
   "cell_type": "code",
   "execution_count": null,
   "metadata": {},
   "outputs": [],
   "source": [
    "# PROCEDIMIENTO\n",
    "tabla = []\n",
    "tramo = b-a\n",
    "fa = fx(a)\n",
    "fb = fx(b)\n",
    "i = 1\n",
    "while (tramo>tolera):\n",
    "    c = (a+b)/2\n",
    "    fc = fx(c)\n",
    "    tabla.append([i,a,c,b,fa,fc,fb,tramo])\n",
    "    i = i+1\n",
    "                 \n",
    "    cambia = np.sign(fa)*np.sign(fc)\n",
    "    if (cambia<0):\n",
    "        b = c\n",
    "        fb = fc\n",
    "    else:\n",
    "        a=c\n",
    "        fa = fc\n",
    "    tramo = b-a\n",
    "c = (a+b)/2\n",
    "fc = fx(c)\n",
    "tabla.append([i,a,c,b,fa,fc,fb,tramo])\n",
    "tabla = np.array(tabla)\n",
    "raiz = c\n",
    "np.set_printoptions(precision = 4)\n",
    "print('i   a     c    b     f(a)   f(c)  f(b)  toler')\n",
    "n=len(tabla)\n",
    "for i in range(0,n,1):\n",
    "    unafila = tabla[i]\n",
    "    formato = '{:.0f}'+' '+(len(unafila)-1)*'{:.3f} '\n",
    "    unafila = formato.format(*unafila)\n",
    "    print(unafila)\n",
    "print('raiz: ',raiz)"
   ]
  },
  {
   "cell_type": "code",
   "execution_count": null,
   "metadata": {},
   "outputs": [],
   "source": [
    "import scipy.optimize as opt\n",
    "#Inserta tu función\n",
    "f1 = lambda x: x**3 + 4*x**2 - 10\n",
    "# Solo cambia el rango 1,2 y la tolerancia, no cambies el xtol o tronará\n",
    "print(opt.bisect(f1,1,2,xtol=0.001))"
   ]
  },
  {
   "cell_type": "markdown",
   "metadata": {},
   "source": [
    "### Método de Newton Raphson ⭐️"
   ]
  },
  {
   "cell_type": "code",
   "execution_count": null,
   "metadata": {},
   "outputs": [],
   "source": [
    "x=sy.symbols('x')\n",
    "#funcion\n",
    "funcion=sin(x) + cos(x)\n",
    "\n",
    "derivada=sy.diff(funcion,x)\n",
    "\n",
    "x_0=0\n",
    "xr=x_0\n",
    "\n",
    "ea=100/100\n",
    "\n",
    "es=0.001/100\n",
    "contador=-1\n",
    "print(\"i\\t   xi\\t     Error Absoluto Porcentual\")\n",
    "while ea>es:\n",
    "    xra=xr\n",
    "    contador+=1\n",
    "    newton_rhapson=x-(funcion/derivada)\n",
    "\n",
    "    xr=newton_rhapson.evalf(subs={x: xr})\n",
    "    \n",
    "    #error aproximado relativo porcentual\n",
    "    ea=sy.Abs(((xr-xra)/xr)*100)\n",
    "    #resultado\n",
    "    print(contador   ,xra, ea)"
   ]
  },
  {
   "cell_type": "markdown",
   "metadata": {},
   "source": [
    "## Método de la regla falsa."
   ]
  },
  {
   "cell_type": "markdown",
   "metadata": {},
   "source": [
    "El método de regla falsa o interpolación se basa en tener 2 limitantes o rango que sepamos que contienen a la raíz de la función. Su ecuación es:\n",
    "\n",
    "\n",
    "$$r\\in[a,b]$$\n",
    "\n",
    "\n",
    "$$ x_i = \\frac{f(a_i)bi - f(b_i)a_i}{f(a_i)-f(b_i)} $$"
   ]
  },
  {
   "cell_type": "code",
   "execution_count": null,
   "metadata": {},
   "outputs": [],
   "source": [
    "## Inserte la ecuación aquí\n",
    "x=sy.symbols('x')\n",
    "Px = lambda x: x**2 - 2*x - 10\n",
    "\n",
    "## Fija los rangos de a y b donde buscarán\n",
    "a = 2\n",
    "b = 6\n",
    "tolerancia = 0.1\n",
    "l = (Px(a)*b - Px(b)*a)/(Px(a)-Px(b))\n",
    "print(l)"
   ]
  },
  {
   "cell_type": "code",
   "execution_count": null,
   "metadata": {},
   "outputs": [],
   "source": [
    "def metodoFalso(f,a,b):\n",
    "    anterior = 0\n",
    "    error = 1\n",
    "    while(error>tolerancia):\n",
    "        l = (Px(a)*b - Px(b)*a)/(Px(a)-Px(b))\n",
    "        "
   ]
  },
  {
   "cell_type": "markdown",
   "metadata": {},
   "source": [
    "# FIN"
   ]
  }
 ],
 "metadata": {
  "kernelspec": {
   "display_name": "Python 3",
   "language": "python",
   "name": "python3"
  },
  "language_info": {
   "codemirror_mode": {
    "name": "ipython",
    "version": 3
   },
   "file_extension": ".py",
   "mimetype": "text/x-python",
   "name": "python",
   "nbconvert_exporter": "python",
   "pygments_lexer": "ipython3",
   "version": "3.6.5"
  }
 },
 "nbformat": 4,
 "nbformat_minor": 2
}
